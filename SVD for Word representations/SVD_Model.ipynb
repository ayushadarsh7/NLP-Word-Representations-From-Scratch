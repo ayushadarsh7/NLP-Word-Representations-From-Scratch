{
  "nbformat": 4,
  "nbformat_minor": 0,
  "metadata": {
    "colab": {
      "provenance": []
    },
    "kernelspec": {
      "name": "python3",
      "display_name": "Python 3"
    },
    "language_info": {
      "name": "python"
    }
  },
  "cells": [
    {
      "cell_type": "code",
      "source": [
        "!pip install tqdm"
      ],
      "metadata": {
        "id": "MzyrltDLEegx",
        "colab": {
          "base_uri": "https://localhost:8080/"
        },
        "outputId": "4cf3482b-ae8f-43fc-f274-1c2a524e93b2"
      },
      "execution_count": 4,
      "outputs": [
        {
          "output_type": "stream",
          "name": "stdout",
          "text": [
            "Requirement already satisfied: tqdm in /usr/local/lib/python3.10/dist-packages (4.66.4)\n"
          ]
        }
      ]
    },
    {
      "cell_type": "code",
      "source": [
        "import numpy as np\n",
        "from scipy.linalg import svd\n",
        "import pandas as pd\n",
        "from tqdm import tqdm"
      ],
      "metadata": {
        "id": "e3iV5Fz40AFI"
      },
      "execution_count": 5,
      "outputs": []
    },
    {
      "cell_type": "code",
      "source": [
        "corpus_1 = open('/content/pre_processed_corpus/Corpus.txt', 'r', encoding='utf-8').readlines()\n",
        "\n",
        "# Concatenating the corpora\n",
        "corpus = corpus_1\n",
        "# we can define multiple corpora and concatenate them\n",
        "\n",
        "# Creating the vocabulary\n",
        "vocab = list(set(\" \".join(corpus).split()))\n",
        "vocab_size = len(vocab)\n",
        "word_to_index = {word: i for i, word in enumerate(vocab)}\n",
        "\n",
        "# Creating the co-occurrence matrix\n",
        "co_occurrence = np.zeros((vocab_size, vocab_size))\n",
        "\n",
        "# Processing corpus\n",
        "for sentence in tqdm(corpus, desc=\"Processing corpus\", unit=\" sentences\"):\n",
        "    words = sentence.split()\n",
        "    for i in range(len(words)):\n",
        "        for j in range(max(0, i-1), min(len(words), i+2)):\n",
        "            if i!= j:\n",
        "                co_occurrence[word_to_index[words[i]], word_to_index[words[j]]] += 1\n",
        "\n",
        "# Performing SVD\n",
        "with tqdm(total=3, desc=\"Performing SVD\") as pbar:\n",
        "    U, Sigma, Vt = svd(co_occurrence)\n",
        "    pbar.update(1)\n",
        "\n",
        "#rank approximation (100)\n",
        "k = 100\n",
        "\n",
        "with tqdm(total=2, desc=\"Performing matrix operations\") as pbar:\n",
        "    U_k = U[:, :k]\n",
        "    pbar.update(1)\n",
        "    Sigma_k = np.diag(Sigma[:k])\n",
        "    pbar.update(1)\n",
        "    Vt_k = Vt[:k, :]\n",
        "\n",
        "# Getting the word representations\n",
        "with tqdm(total=1, desc=\"Computing word representations\") as pbar:\n",
        "    word_representations = np.dot(U_k, Sigma_k)\n",
        "    pbar.update(1)\n",
        "\n",
        "df = pd.DataFrame(word_representations, index=vocab)\n",
        "\n",
        "df.to_csv('/content/word_representations_SVD.csv', header=False, index=True, encoding='utf-8')"
      ],
      "metadata": {
        "colab": {
          "base_uri": "https://localhost:8080/"
        },
        "id": "JRDZe8CkyOGF",
        "outputId": "d4836694-6aff-4597-a56d-2f2f7d15d323"
      },
      "execution_count": 8,
      "outputs": [
        {
          "output_type": "stream",
          "name": "stderr",
          "text": [
            "Processing corpus: 100%|██████████| 150/150 [00:00<00:00, 18080.97 sentences/s]\n",
            "Performing SVD:  33%|███▎      | 1/3 [00:02<00:04,  2.35s/it]\n",
            "Performing matrix operations: 100%|██████████| 2/2 [00:00<00:00, 6533.18it/s]\n",
            "Computing word representations: 100%|██████████| 1/1 [00:00<00:00, 102.16it/s]\n"
          ]
        }
      ]
    },
    {
      "cell_type": "code",
      "source": [
        "import pandas as pd\n",
        "df.to_excel('/content/word_representations_SVD.xlsx', encoding='utf-8', index=True)"
      ],
      "metadata": {
        "id": "I6kMuUuD0o7R"
      },
      "execution_count": null,
      "outputs": []
    }
  ]
}